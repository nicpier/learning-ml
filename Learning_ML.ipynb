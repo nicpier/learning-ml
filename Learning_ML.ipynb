{
  "nbformat": 4,
  "nbformat_minor": 0,
  "metadata": {
    "colab": {
      "provenance": [],
      "authorship_tag": "ABX9TyNtuibNaC5NkKoG/qTKm5u6",
      "include_colab_link": true
    },
    "kernelspec": {
      "name": "python3",
      "display_name": "Python 3"
    },
    "language_info": {
      "name": "python"
    }
  },
  "cells": [
    {
      "cell_type": "markdown",
      "metadata": {
        "id": "view-in-github",
        "colab_type": "text"
      },
      "source": [
        "<a href=\"https://colab.research.google.com/github/nicpier/learning-ml/blob/main/Learning_ML.ipynb\" target=\"_parent\"><img src=\"https://colab.research.google.com/assets/colab-badge.svg\" alt=\"Open In Colab\"/></a>"
      ]
    },
    {
      "cell_type": "markdown",
      "source": [
        "# Learning ML\n",
        "\n",
        "### Few info about me\n",
        "\n",
        "*   currently works 9-to-5, so can only invest about 1 hour a day for studying (maintaining a social life is also important)\n",
        "*   already took very basic machine learning and Python programming courses at the university\n",
        "*   thinks ML is a nice way to play with codes and express creativity\n",
        "\n",
        "### The pathway I designed for myself\n",
        "\n",
        "1.  **Math**\n",
        "*   [Precalculus through Data and Modelling Specialization](https://www.coursera.org/specializations/precalculus-data-modelling) (3 weeks) ***\n",
        "*   [Differential Calculus through Data and Modeling Specialization](https://www.coursera.org/specializations/differential-calculus-data-modeling?irclickid=1JSTgl2GWxyKRCuSQMVFHw4MUkHXK7R1F2rm2I0&irgwc=1) (4 weeks)\n",
        "*   [Integral Calculus through Data and Modeling Specialization](https://www.coursera.org/specializations/integral-calculus-data-modeling?irclickid=1JSTgl2GWxyKRCuSQMVFHw4MUkHXK7R1F2rm2I0&irgwc=1) (4 weeks)\n",
        "*   [Mathematics for Machine Learning Specialization](https://www.coursera.org/specializations/mathematics-machine-learning) (4 weeks)\n",
        "2.  **Python**\n",
        "*   [Setting up Python coding environment](https://realpython.com/python-coding-setup-windows/) (1 week)\n",
        "*   [How to Use Git and GitHub](https://www.freecodecamp.org/news/guide-to-git-github-for-beginners-and-experienced-devs/) (1 week)\n",
        "*   [Python for Data Science, AI & Development](https://www.coursera.org/learn/python-for-applied-data-science-ai) (5 weeks)\n",
        "3.  **ML**\n",
        "*   [Machine Learning Specialization](https://www.coursera.org/specializations/machine-learning-introduction) (8 weeks)\n",
        "4.  **Projects**\n",
        "*   [Machine Learning Roadmap](https://www.youtube.com/watch?v=pHiMN_gy9mk) (1 week)\n",
        "*   [Kaggle competitions](https://www.kaggle.com/competitions) (?)\n",
        "\n",
        "*** instead of this in the first place there was only the precalculus introductory course (comment of 2024-06-30)"
      ],
      "metadata": {
        "id": "vhR4QlwDW20z"
      }
    },
    {
      "cell_type": "markdown",
      "source": [
        "---\n",
        "\n",
        "### **2024-06-23**\n",
        "\n",
        "I decided to use this page as a journal to track my machine learning progress. I will be coming here every Sunday for the next 6 months to write just a few lines about how the study is going. Hope it helps me stay consistent."
      ],
      "metadata": {
        "id": "XRKxzC5OseZS"
      }
    },
    {
      "cell_type": "markdown",
      "source": [
        "---\n",
        "\n",
        "### **2024-06-30**\n",
        "\n",
        "After this first week, I can say that I am opting for the full [specialization in precalculus](https://www.coursera.org/specializations/precalculus-data-modelling) instead of just the first introductory course as I think I should progress nice and slowly. The last time I studied maths seriously was in 2020."
      ],
      "metadata": {
        "id": "9ybOv12R0nae"
      }
    },
    {
      "cell_type": "markdown",
      "source": [
        "---\n",
        "\n",
        "### **2024-07-07**\n",
        "\n",
        "Now I remember why I don't like trigonometry. As a result I struggled to keep up with the flow of this week in the same way as the previous two. The good news is that I'm starting to get used to this study pace of 1 hour a day."
      ],
      "metadata": {
        "id": "BgP8qlJyowKR"
      }
    },
    {
      "cell_type": "markdown",
      "source": [
        "---\n",
        "\n",
        "### **2024-07-14**\n",
        "\n",
        "This week went pretty smoothly: the topic of mathematical modeling was interesting and studying some applications of periodic functions from last week helped me understand them a little more. 2 months of proper Calculus are ahead of me."
      ],
      "metadata": {
        "id": "lIAYMWHgEOfO"
      }
    },
    {
      "cell_type": "markdown",
      "source": [
        "---\n",
        "\n",
        "### **2024-07-21**\n",
        "\n",
        "I struggled a bit to keep up the pace this week especially because I already covered some topics from the [precalculus specialization](https://www.coursera.org/specializations/precalculus-data-modelling) and it started to get a little redundant but luckily there were also things I have never seen at the end."
      ],
      "metadata": {
        "id": "6xVFGVRvI4J2"
      }
    },
    {
      "cell_type": "markdown",
      "source": [
        "---\n",
        "\n",
        "### **2024-07-28**\n",
        "\n",
        "Lots of limits and derivatives, now I've reached the actual calculus. The lessons are indeed getting more intense too, so it hasn't been the easiest week so far, but at least things are getting more interesting overall."
      ],
      "metadata": {
        "id": "fw-j95SN9l5k"
      }
    },
    {
      "cell_type": "markdown",
      "source": [
        "---\n",
        "\n",
        "### **2024-08-04**\n",
        "\n",
        "I am glad that I have delved into the topic of derivatives with some concepts I did not study directly at the university, namely gradient vectors and directional derivatives. I may have encountered similar concepts but never reached their core."
      ],
      "metadata": {
        "id": "fDgYhDfUHZS2"
      }
    },
    {
      "cell_type": "markdown",
      "source": [
        "---\n",
        "\n",
        "### **2024-08-11**\n",
        "\n",
        "This has been a tough week, summer is in full swing. At least the topic was quite interesting, in the past I have modeled functions with only two variables. Modeling multivariable functions is a new sport for me."
      ],
      "metadata": {
        "id": "3O95SOQKi8Jr"
      }
    },
    {
      "cell_type": "markdown",
      "source": [
        "---\n",
        "\n",
        "### **2024-08-18**\n",
        "\n",
        "Toughest week so far. Integrals and sequences in mid-August are not a joke. I did my best to follow along and hope to remember as much as possible because this is the real core of calculus after all."
      ],
      "metadata": {
        "id": "0s0LXR77ssvw"
      }
    }
  ]
}