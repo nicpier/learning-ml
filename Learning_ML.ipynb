{
  "nbformat": 4,
  "nbformat_minor": 0,
  "metadata": {
    "colab": {
      "provenance": [],
      "authorship_tag": "ABX9TyMdl6T4pSA1DtsVdrKb6sYN"
    },
    "kernelspec": {
      "name": "python3",
      "display_name": "Python 3"
    },
    "language_info": {
      "name": "python"
    }
  },
  "cells": [
    {
      "cell_type": "markdown",
      "source": [
        "# Learning ML\n",
        "\n",
        "### Few info about me\n",
        "\n",
        "*   currently works 9-to-5, so can only invest about 1 hour a day for studying (maintaining a social life is also important)\n",
        "*   already took very basic machine learning and Python programming courses at the university\n",
        "*   thinks ML is a nice way to play with codes and express creativity\n",
        "\n",
        "### The pathway I designed for myself\n",
        "\n",
        "1.  **Math**\n",
        "*   [Precalculus: Relations and Functions](https://www.coursera.org/learn/precalculus-relations-functions?irclickid=1JSTgl2GWxyKRCuSQMVFHw4MUkHXK72hF2rm2I0&irgwc=1) (1 week)\n",
        "*   [Differential Calculus through Data and Modeling](https://www.coursera.org/specializations/differential-calculus-data-modeling?irclickid=1JSTgl2GWxyKRCuSQMVFHw4MUkHXK7R1F2rm2I0&irgwc=1) (4 weeks)\n",
        "*   [Integral Calculus through Data and Modeling](https://www.coursera.org/specializations/integral-calculus-data-modeling?irclickid=1JSTgl2GWxyKRCuSQMVFHw4MUkHXK7R1F2rm2I0&irgwc=1) (4 weeks)\n",
        "*   [Mathematics for Machine Learning](https://www.coursera.org/specializations/mathematics-machine-learning) (4 weeks)\n",
        "2.  **Python**\n",
        "*   [Setting up Python coding environment](https://realpython.com/python-coding-setup-windows/) (1 week)\n",
        "*   [How to Use Git and GitHub](https://www.freecodecamp.org/news/guide-to-git-github-for-beginners-and-experienced-devs/) (1 week)\n",
        "*   [Python for Data Science, AI & Development](https://www.coursera.org/learn/python-for-applied-data-science-ai) (5 weeks)\n",
        "3.  **ML**\n",
        "*   [Machine Learning Specialization](https://www.coursera.org/specializations/machine-learning-introduction) (8 weeks)\n",
        "4.  **Projects**\n",
        "*   [Machine Learning Roadmap](https://www.youtube.com/watch?v=pHiMN_gy9mk) (1 week)\n",
        "*   [Kaggle competitions](https://www.kaggle.com/competitions) (?)"
      ],
      "metadata": {
        "id": "vhR4QlwDW20z"
      }
    },
    {
      "cell_type": "markdown",
      "source": [
        "---\n",
        "\n",
        "### **2024-06-23**\n",
        "\n",
        "I decided to use this page as a journal to track my machine learning progress. I will be coming here every Sunday for the next 6 months to write just a few lines about how the study is going. Hope it helps me stay consistent."
      ],
      "metadata": {
        "id": "XRKxzC5OseZS"
      }
    }
  ]
}